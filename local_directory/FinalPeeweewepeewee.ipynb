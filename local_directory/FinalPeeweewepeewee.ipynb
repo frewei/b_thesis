{
 "cells": [
  {
   "cell_type": "code",
   "execution_count": 6,
   "id": "4518c0e7-6980-467c-9b69-0e45d98a60e7",
   "metadata": {},
   "outputs": [],
   "source": [
    "import numpy as np\n",
    "import re"
   ]
  },
  {
   "cell_type": "markdown",
   "id": "245bc59f-c7bd-49b3-8fb3-dad1acf55448",
   "metadata": {},
   "source": [
    "Representation of the labels at their ideces"
   ]
  },
  {
   "cell_type": "code",
   "execution_count": null,
   "id": "c95ae48a-66c2-46d7-9fca-6badafc62f0e",
   "metadata": {},
   "outputs": [],
   "source": [
    "azimuth_values = [270, 280, 290, 300, 310, 320, 330, 340, 350, 0, 10, 20, 30, 40, 50, 60, 70, 80, 90]\n",
    "elevation_values= [60, 45, 30, 20, 10, 0, -10, -20, -30, -45]\n",
    "positions_dict = []\n",
    "for az in azimuth_values:\n",
    "  for el in elevation_values:\n",
    "    positions_dict.append({'azimuth': az, 'elevation': el})\n",
    "print(len(positions_dict))\n",
    "print(positions_dict)\n"
   ]
  },
  {
   "cell_type": "markdown",
   "id": "73fef5f9-2408-49e9-a97d-81df939aa697",
   "metadata": {},
   "source": [
    "kijk of reverb overal evenveel voorkomt"
   ]
  },
  {
   "cell_type": "code",
   "execution_count": 21,
   "id": "eacd5392-6a51-4a19-9d1b-2cd8b22074e1",
   "metadata": {},
   "outputs": [],
   "source": [
    "# X_train_val = np.load('name_labels_train_single.npz')['arr_0']\n",
    "# y_train_val = np.load('name_labels_train_single.npz')['arr_1']\n",
    "# X_test = np.load('name_labels_test_single.npz')['arr_0']\n",
    "# y_test = np.load('name_labels_test_single.npz')['arr_1']\n",
    "\n",
    "# X_test_sounds = []\n",
    "# for s in X_test:\n",
    "#     match = re.match(r\".(human|animals|domestic|urban|natural)(.*).{5}\", s)\n",
    "#     sound_name = match.group(1) if match else None\n",
    "#     X_test_sounds.append(sound_name)\n",
    "\n",
    "# even = np.unique(X_test_sounds, return_counts = True)\n",
    "# print(even)\n",
    "# animals, natural, domestic, human, urban"
   ]
  },
  {
   "cell_type": "code",
   "execution_count": 2,
   "id": "3d870265-049c-451b-8ff2-2b3228a2bce1",
   "metadata": {},
   "outputs": [],
   "source": [
    "import tensorboard\n",
    "%load_ext tensorboard"
   ]
  },
  {
   "cell_type": "code",
   "execution_count": 2,
   "id": "5c12d6a9-fa7d-49ab-a421-294f8bf694da",
   "metadata": {},
   "outputs": [
    {
     "data": {
      "text/html": [
       "\n",
       "      <iframe id=\"tensorboard-frame-6476cb6c72eba621\" width=\"100%\" height=\"800\" frameborder=\"0\">\n",
       "      </iframe>\n",
       "      <script>\n",
       "        (function() {\n",
       "          const frame = document.getElementById(\"tensorboard-frame-6476cb6c72eba621\");\n",
       "          const url = new URL(\"/\", window.location);\n",
       "          const port = 6006;\n",
       "          if (port) {\n",
       "            url.port = port;\n",
       "          }\n",
       "          frame.src = url;\n",
       "        })();\n",
       "      </script>\n",
       "    "
      ],
      "text/plain": [
       "<IPython.core.display.HTML object>"
      ]
     },
     "metadata": {},
     "output_type": "display_data"
    }
   ],
   "source": [
    "%tensorboard --logdir \"./single_source/single_source/\""
   ]
  },
  {
   "cell_type": "code",
   "execution_count": 3,
   "id": "c7835db9-c7a9-44e2-be6e-4e2383d78c45",
   "metadata": {},
   "outputs": [
    {
     "data": {
      "text/html": [
       "\n",
       "      <iframe id=\"tensorboard-frame-6a8e8e7f536f2883\" width=\"100%\" height=\"800\" frameborder=\"0\">\n",
       "      </iframe>\n",
       "      <script>\n",
       "        (function() {\n",
       "          const frame = document.getElementById(\"tensorboard-frame-6a8e8e7f536f2883\");\n",
       "          const url = new URL(\"/\", window.location);\n",
       "          const port = 6006;\n",
       "          if (port) {\n",
       "            url.port = port;\n",
       "          }\n",
       "          frame.src = url;\n",
       "        })();\n",
       "      </script>\n",
       "    "
      ],
      "text/plain": [
       "<IPython.core.display.HTML object>"
      ]
     },
     "metadata": {},
     "output_type": "display_data"
    }
   ],
   "source": [
    "%tensorboard --logdir \"./NewSScodesetc/logs/\""
   ]
  },
  {
   "cell_type": "code",
   "execution_count": 16,
   "id": "5e93e20d-706e-4f67-95fe-646731a223e8",
   "metadata": {},
   "outputs": [
    {
     "data": {
      "text/plain": [
       "Reusing TensorBoard on port 6008 (pid 48521), started 20:46:52 ago. (Use '!kill 48521' to kill it.)"
      ]
     },
     "metadata": {},
     "output_type": "display_data"
    },
    {
     "data": {
      "text/html": [
       "\n",
       "      <iframe id=\"tensorboard-frame-ee8eb3cff67d2ea\" width=\"100%\" height=\"800\" frameborder=\"0\">\n",
       "      </iframe>\n",
       "      <script>\n",
       "        (function() {\n",
       "          const frame = document.getElementById(\"tensorboard-frame-ee8eb3cff67d2ea\");\n",
       "          const url = new URL(\"/\", window.location);\n",
       "          const port = 6008;\n",
       "          if (port) {\n",
       "            url.port = port;\n",
       "          }\n",
       "          frame.src = url;\n",
       "        })();\n",
       "      </script>\n",
       "    "
      ],
      "text/plain": [
       "<IPython.core.display.HTML object>"
      ]
     },
     "metadata": {},
     "output_type": "display_data"
    }
   ],
   "source": [
    "%tensorboard --logdir \"./multi_source/\""
   ]
  },
  {
   "cell_type": "code",
   "execution_count": null,
   "id": "436e6d24-0a83-430e-a5b4-68a1e10589de",
   "metadata": {},
   "outputs": [],
   "source": []
  }
 ],
 "metadata": {
  "kernelspec": {
   "display_name": "Python 3 (ipykernel)",
   "language": "python",
   "name": "python3"
  },
  "language_info": {
   "codemirror_mode": {
    "name": "ipython",
    "version": 3
   },
   "file_extension": ".py",
   "mimetype": "text/x-python",
   "name": "python",
   "nbconvert_exporter": "python",
   "pygments_lexer": "ipython3",
   "version": "3.12.2"
  }
 },
 "nbformat": 4,
 "nbformat_minor": 5
}
